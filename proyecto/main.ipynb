{
 "cells": [
  {
   "cell_type": "code",
   "execution_count": 1,
   "id": "66369eec-b2a8-4077-918e-e7942ad1569d",
   "metadata": {},
   "outputs": [],
   "source": [
    "from selenium import webdriver\n",
    "from selenium.webdriver.chrome.service import Service\n",
    "from selenium.webdriver.common.by import By\n",
    "from selenium.webdriver.support import expected_conditions as EC\n",
    "from selenium.webdriver.support.ui import WebDriverWait\n",
    "from selenium.common.exceptions import TimeoutException"
   ]
  },
  {
   "cell_type": "code",
   "execution_count": 2,
   "id": "97553856-fb9f-45ca-9bd9-4c0601efe622",
   "metadata": {},
   "outputs": [],
   "source": [
    "import base64\n",
    "import time\n",
    "import os"
   ]
  },
  {
   "cell_type": "code",
   "execution_count": 3,
   "id": "35610330-ac10-4526-952f-2ef9c566c4d5",
   "metadata": {},
   "outputs": [],
   "source": [
    "def get_disk_status():\n",
    "        return f\"Disk status: \\n\\n{os.popen('df -h').read()}\""
   ]
  },
  {
   "cell_type": "code",
   "execution_count": 4,
   "id": "27e8ccea-0ab7-4b41-96a2-5acf713f3725",
   "metadata": {},
   "outputs": [],
   "source": [
    "def get_memory_status():\n",
    "        return f\"Memory status: \\n\\n{os.popen('free -m').read()}\""
   ]
  },
  {
   "cell_type": "code",
   "execution_count": 5,
   "id": "20f4de92-5e12-4c4f-998b-36cf739e99d7",
   "metadata": {},
   "outputs": [],
   "source": [
    "class Whatsapp:\n",
    "\n",
    "\n",
    "    def __init__(self):\n",
    "\n",
    "        options = webdriver.ChromeOptions()\n",
    "        #options.add_argument(\"--headless\")\n",
    "        options.add_argument(\"--no-sandbox\")\n",
    "        options.add_argument(\"--disable-dev-shm-usage\")\n",
    "        options.add_argument(\"--disable-gpu\")\n",
    "        options.add_argument(\"--window-size=1920x1080\")\n",
    "        options.add_argument(\"--blink-settings=imagesEnabled=true\")\n",
    "        options.add_argument(\"--disable-blink-features=AutomationControlled\")\n",
    "      \n",
    "\n",
    "\n",
    "        options.add_argument(\"user-agent=Mozilla/5.0 (Windows NT 10.0; Win64; x64) AppleWebKit/537.36 (KHTML, like Gecko) Chrome/91.0.4472.77 Safari/537.36\")\n",
    "        self.driver = webdriver.Chrome(options=options)\n",
    "\n",
    "        self.first_message = True\n",
    "\n",
    "    def extract_qr_code(self):\n",
    "        self.driver.get(\"https://web.whatsapp.com/\")\n",
    "        qr_element = WebDriverWait(self.driver,60).until(\n",
    "            EC.presence_of_element_located((By.TAG_NAME,'canvas'))\n",
    "        )\n",
    "        qr_canvas = self.driver.find_element(By.TAG_NAME,'canvas')\n",
    "        qr_base64 = self.driver.execute_script(\"return arguments[0].toDataURL('image/png').substring(22);\",qr_canvas)\n",
    "        qr_file_path = 'barcode_whatsapp.png'\n",
    "        with open(qr_file_path,'wb') as qr_file:\n",
    "            qr_file.write(base64.b64decode(qr_base64))\n",
    "\n",
    "    def buscar_contacto(self,contact,message):\n",
    "        try:\n",
    "            if self.first_message:\n",
    "                self.first_message = False\n",
    "                time.sleep(10)\n",
    "\n",
    "            search_box = WebDriverWait(self.driver , 60).until(\n",
    "                EC.presence_of_element_located((By.XPATH,\"//div[@contenteditable='true'][@data-tab='3']\"))\n",
    "            )\n",
    "            search_box.clear()\n",
    "            search_box.send_keys(contact)\n",
    "            search_box.send_keys(u'\\ue007')\n",
    "\n",
    "        except Exception  as e:\n",
    "            self.driver.save_screenshot('error.png')\n",
    "            print(f\"Error: {e}\")\n",
    "\n",
    "\n",
    "    # esto no es nesesario si el contacto es unico\n",
    "    # pero si son varios se debe colocar el nombre exacto \n",
    "    def darle_click_al_contacto(self,contact_name,message):\n",
    "        try:\n",
    "            contact_xpath = f\"//span[@title='{contact_name}']\"\n",
    "            contact = WebDriverWait(self.driver , 60).until(\n",
    "                EC.presence_of_element_located((By.XPATH,contact_xpath))\n",
    "            )\n",
    "\n",
    "            contact.click() #click \n",
    "        except Exception  as e:\n",
    "            self.driver.save_screenshot('error.png')\n",
    "            print(f\"Error: {e}\")\n",
    "\n",
    "    def enviar_mensaje(self,contact,message):\n",
    "        try:\n",
    "            message_box = WebDriverWait(self.driver , 60).until(\n",
    "                EC.presence_of_element_located((By.XPATH,\"//div[@contenteditable='true'][@data-tab='10']\"))\n",
    "            )\n",
    "     \n",
    "            message_box.send_keys(message) #escribir mensaje\n",
    "            message_box.send_keys(u'\\ue007') #dar enter\n",
    "        except Exception  as e:\n",
    "            self.driver.save_screenshot('error.png')\n",
    "            print(f\"Error: {e}\")"
   ]
  },
  {
   "cell_type": "markdown",
   "id": "c4cb041a-5691-43f3-a10c-67993ac37430",
   "metadata": {},
   "source": [
    "PRUEBAS"
   ]
  },
  {
   "cell_type": "markdown",
   "id": "b64ca2fd-d59d-4bd2-9e13-e2f5a587dc76",
   "metadata": {},
   "source": [
    "PRIMERO EL MENSAJE DEL SERVER"
   ]
  },
  {
   "cell_type": "code",
   "execution_count": 6,
   "id": "2fb131f3-699f-48b9-b7b1-26bd33d38eeb",
   "metadata": {},
   "outputs": [],
   "source": [
    "x1 = get_disk_status()"
   ]
  },
  {
   "cell_type": "code",
   "execution_count": 7,
   "id": "a9f977f3-031a-4323-88cf-dadebe6b0d49",
   "metadata": {},
   "outputs": [],
   "source": [
    "x2 = get_memory_status()"
   ]
  },
  {
   "cell_type": "code",
   "execution_count": 8,
   "id": "88675143-550c-4fb8-9c9f-d8fe2bb88184",
   "metadata": {},
   "outputs": [],
   "source": [
    "mensaje_final = f\" disco {x1}  ram  {x2}\" # saltos de linea los tomara al final como varios mensajes"
   ]
  },
  {
   "cell_type": "markdown",
   "id": "97b72852-aad6-4d8c-a9ea-d1948f7eab3c",
   "metadata": {},
   "source": [
    "AHORA EL WHATSAPP"
   ]
  },
  {
   "cell_type": "code",
   "execution_count": 3,
   "id": "490d6fd6-e876-4147-8007-c1d833551f03",
   "metadata": {},
   "outputs": [],
   "source": [
    "whatsapp = Whatsapp()\n",
    "whatsapp.extract_qr_code()"
   ]
  },
  {
   "cell_type": "markdown",
   "id": "b2952e5c-9bd4-46ae-983d-c615e23c4c46",
   "metadata": {},
   "source": [
    "BUSCAS LA CONCIDENCIA DEL NOMBRE DEL USUARIO"
   ]
  },
  {
   "cell_type": "code",
   "execution_count": 37,
   "id": "dd8e8591-6c72-4232-a5a9-daa00508d54f",
   "metadata": {},
   "outputs": [],
   "source": [
    "whatsapp.buscar_contacto(\"yo\" , \" test \")"
   ]
  },
  {
   "cell_type": "markdown",
   "id": "77efc30c-00c8-4f8a-b820-33fba9554286",
   "metadata": {},
   "source": [
    "COMO YO TENGO 2 CONTACTOS CON LA CONCIDENCIA \"yo\" , aqui tiene que indicarce el nombre completo."
   ]
  },
  {
   "cell_type": "code",
   "execution_count": 11,
   "id": "0f55c8e9-90d9-4f85-94b2-2b0a0184e721",
   "metadata": {},
   "outputs": [],
   "source": [
    "whatsapp.darle_click_al_contacto(\"TMX Security (Ayacucho)\" , \" test \")"
   ]
  },
  {
   "cell_type": "code",
   "execution_count": 38,
   "id": "ce5a1067-b6ca-412d-b2a2-e6548d1d08dc",
   "metadata": {},
   "outputs": [],
   "source": [
    "whatsapp.darle_click_al_contacto(\"Yo\" , \" test \")"
   ]
  },
  {
   "cell_type": "markdown",
   "id": "eafe1868-3d73-48c2-b2ae-1124710a2f65",
   "metadata": {},
   "source": [
    "MENSAJE ENVIADO"
   ]
  },
  {
   "cell_type": "code",
   "execution_count": 39,
   "id": "968af9b6-eb8d-4dd5-91e8-b0fa1fc57bc6",
   "metadata": {},
   "outputs": [],
   "source": [
    "whatsapp.enviar_mensaje(\"you\" , mensaje_final)"
   ]
  },
  {
   "cell_type": "code",
   "execution_count": 20,
   "id": "aa20a4b2-1880-4291-ac73-451eb61cc9f4",
   "metadata": {},
   "outputs": [],
   "source": []
  },
  {
   "cell_type": "code",
   "execution_count": null,
   "id": "199d02b3-6e6c-4e50-a400-79443196bd4f",
   "metadata": {},
   "outputs": [],
   "source": []
  }
 ],
 "metadata": {
  "kernelspec": {
   "display_name": "Python 3 (ipykernel)",
   "language": "python",
   "name": "python3"
  },
  "language_info": {
   "codemirror_mode": {
    "name": "ipython",
    "version": 3
   },
   "file_extension": ".py",
   "mimetype": "text/x-python",
   "name": "python",
   "nbconvert_exporter": "python",
   "pygments_lexer": "ipython3",
   "version": "3.11.9"
  }
 },
 "nbformat": 4,
 "nbformat_minor": 5
}
