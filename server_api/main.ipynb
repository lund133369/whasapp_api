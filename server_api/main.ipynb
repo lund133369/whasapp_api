{
 "cells": [
  {
   "cell_type": "code",
   "execution_count": 1,
   "id": "66369eec-b2a8-4077-918e-e7942ad1569d",
   "metadata": {},
   "outputs": [],
   "source": [
    "from selenium import webdriver\n",
    "from selenium.webdriver.chrome.service import Service\n",
    "from selenium.webdriver.common.by import By\n",
    "from selenium.webdriver.common.keys import Keys\n",
    "\n",
    "from selenium.webdriver.support import expected_conditions as EC\n",
    "from selenium.webdriver.support.ui import WebDriverWait\n",
    "from selenium.common.exceptions import TimeoutException\n",
    "import base64\n",
    "import time\n",
    "import os"
   ]
  },
  {
   "cell_type": "code",
   "execution_count": 2,
   "id": "35610330-ac10-4526-952f-2ef9c566c4d5",
   "metadata": {},
   "outputs": [],
   "source": [
    "def get_disk_status():\n",
    "        return f\"Disk status: \\n\\n{os.popen('df -h').read()}\""
   ]
  },
  {
   "cell_type": "code",
   "execution_count": 3,
   "id": "27e8ccea-0ab7-4b41-96a2-5acf713f3725",
   "metadata": {},
   "outputs": [],
   "source": [
    "def get_memory_status():\n",
    "        return f\"Memory status: \\n\\n{os.popen('free -m').read()}\""
   ]
  },
  {
   "cell_type": "code",
   "execution_count": 2,
   "id": "20f4de92-5e12-4c4f-998b-36cf739e99d7",
   "metadata": {},
   "outputs": [],
   "source": [
    "class Whatsapp_web:\n",
    "\n",
    "\n",
    "    def __init__(self):\n",
    "\n",
    "        options = webdriver.ChromeOptions()\n",
    "        options.add_argument(\"--headless\")\n",
    "        options.add_argument(\"--no-sandbox\")\n",
    "        options.add_argument(\"--disable-dev-shm-usage\")\n",
    "        options.add_argument(\"--disable-gpu\")\n",
    "        options.add_argument(\"--window-size=1920x1080\")\n",
    "        options.add_argument(\"--blink-settings=imagesEnabled=true\")\n",
    "        options.add_argument(\"--disable-blink-features=AutomationControlled\")\n",
    "      \n",
    "        options.add_argument(\"user-agent=Mozilla/5.0 (Windows NT 10.0; Win64; x64) AppleWebKit/537.36 (KHTML, like Gecko) Chrome/91.0.4472.77 Safari/537.36\")\n",
    "        self.driver = webdriver.Chrome(options=options)\n",
    "        self.first_message = True\n",
    "\n",
    "    def extract_qr_code(self,name_barcode=\"./barcode/barcode_whatsapp.png\"):\n",
    "        try:\n",
    "            self.driver.get(\"https://web.whatsapp.com/\")\n",
    "            qr_element = WebDriverWait(self.driver,60).until(\n",
    "                EC.presence_of_element_located((By.TAG_NAME,'canvas'))\n",
    "            )\n",
    "            qr_canvas = self.driver.find_element(By.TAG_NAME,'canvas')\n",
    "            qr_base64 = self.driver.execute_script(\"return arguments[0].toDataURL('image/png').substring(22);\",qr_canvas)\n",
    "            qr_file_path = name_barcode\n",
    "            with open(qr_file_path,'wb') as qr_file:\n",
    "                qr_file.write(base64.b64decode(qr_base64))\n",
    "            \n",
    "        except Exception  as e:\n",
    "            self.driver.save_screenshot('./barcode/error_buscar_contacto.png')\n",
    "            print(f\"Error: {e}\")\n",
    "            return e\n",
    "\n",
    "    def buscar_contacto(self,contact):\n",
    "        try:\n",
    "\n",
    "            print(\"\")\n",
    "            time.sleep(5)\n",
    "\n",
    "            search_box = WebDriverWait(self.driver , 60).until(\n",
    "                EC.presence_of_element_located((By.XPATH,\"//div[@contenteditable='true'][@data-tab='3']\"))\n",
    "            )\n",
    "\n",
    "            # Hace clic en el campo de búsqueda para enfocarlo.\n",
    "            search_box.click()\n",
    "            # Selecciona todo el texto dentro del campo de búsqueda usando Ctrl + A.\n",
    "            search_box.send_keys(Keys.CONTROL + \"a\")\n",
    "            # Borra el texto seleccionado enviando la tecla de retroceso (Backspace).\n",
    "            search_box.send_keys(Keys.BACKSPACE)\n",
    "            \n",
    "            search_box.send_keys(contact)\n",
    "            search_box.send_keys(u'\\ue007')\n",
    "\n",
    "     \n",
    "            time.sleep(5)\n",
    "\n",
    "            spans = WebDriverWait(self.driver, 10).until(\n",
    "                EC.presence_of_all_elements_located((By.XPATH, '//span[@dir=\"auto\" and @title]'))\n",
    "            )\n",
    "\n",
    "\n",
    "            # Construir una lista con el formato deseado\n",
    "            formatted_spans = [f'{span.get_attribute(\"title\")} : {span.text}' for span in spans]\n",
    "\n",
    "            print(formatted_spans)\n",
    "\n",
    "            return formatted_spans\n",
    "          \n",
    "        except Exception  as e:\n",
    "            self.driver.save_screenshot('./barcode/error_buscar_contacto.png')\n",
    "            print(f\"Error: {e}\")\n",
    "            return e\n",
    "\n",
    "\n",
    "    # esto no es nesesario si el contacto es unico\n",
    "    # pero si son varios se debe colocar el nombre exacto \n",
    "    def enviar_mensaje(self,contact_name,message,delay_minutes=0):\n",
    "        try:\n",
    "            contact_xpath = f\"//span[@title='{contact_name}']\"\n",
    "            contact = WebDriverWait(self.driver , 60).until(\n",
    "                EC.presence_of_element_located((By.XPATH,contact_xpath))\n",
    "            )\n",
    "            print(1)\n",
    "            contact.click() #click \n",
    "\n",
    "            time.sleep(2)\n",
    "            print(2)\n",
    "            message_box = WebDriverWait(self.driver , 60).until(\n",
    "                EC.presence_of_element_located((By.XPATH,\"//div[@contenteditable='true'][@data-tab='10']\"))\n",
    "            )\n",
    "            print(3)\n",
    "            # Introduce un retraso en minutos\n",
    "            if delay_minutes > 0:\n",
    "                print(f\"Esperando {delay_minutes} minutos antes de enviar el mensaje...\")\n",
    "                time.sleep(delay_minutes * 60)  # Convierte minutos a segundos\n",
    "            print(4)       \n",
    "            message_box.send_keys(message) #escribir mensaje\n",
    "            print(5)\n",
    "            message_box.send_keys(u'\\ue007') #dar enter\n",
    "        except Exception  as e:\n",
    "            self.driver.save_screenshot('./barcode/error_enviar_mensaje.png')\n",
    "            print(f\"Error: {e} \")\n",
    "            print(type(e))"
   ]
  },
  {
   "cell_type": "markdown",
   "id": "c4cb041a-5691-43f3-a10c-67993ac37430",
   "metadata": {},
   "source": [
    "PRUEBAS"
   ]
  },
  {
   "cell_type": "code",
   "execution_count": 3,
   "id": "490d6fd6-e876-4147-8007-c1d833551f03",
   "metadata": {},
   "outputs": [],
   "source": [
    "whatsapp_1 = Whatsapp_web()"
   ]
  },
  {
   "cell_type": "code",
   "execution_count": 4,
   "id": "a7f2722e",
   "metadata": {},
   "outputs": [],
   "source": [
    "whatsapp_1.extract_qr_code(\"./barcode/barcode_1.png\")"
   ]
  },
  {
   "cell_type": "code",
   "execution_count": 6,
   "id": "dd8e8591-6c72-4232-a5a9-daa00508d54f",
   "metadata": {},
   "outputs": [
    {
     "name": "stdout",
     "output_type": "stream",
     "text": [
      "\n",
      "['BBCITO 7w7 : BBCITO 7w7', '+51 970 865 516 : +51 970 865 516']\n"
     ]
    },
    {
     "data": {
      "text/plain": [
       "['BBCITO 7w7 : BBCITO 7w7', '+51 970 865 516 : +51 970 865 516']"
      ]
     },
     "execution_count": 6,
     "metadata": {},
     "output_type": "execute_result"
    }
   ],
   "source": [
    "whatsapp_1.buscar_contacto(\"bb\")"
   ]
  },
  {
   "cell_type": "code",
   "execution_count": 7,
   "id": "968af9b6-eb8d-4dd5-91e8-b0fa1fc57bc6",
   "metadata": {},
   "outputs": [
    {
     "name": "stdout",
     "output_type": "stream",
     "text": [
      "1\n",
      "2\n",
      "3\n",
      "4\n",
      "5\n"
     ]
    }
   ],
   "source": [
    "whatsapp_1.enviar_mensaje(\"BBCITO 7w7\",\"ya vengo mama dori sin ui\",0)"
   ]
  },
  {
   "cell_type": "markdown",
   "id": "b64ca2fd-d59d-4bd2-9e13-e2f5a587dc76",
   "metadata": {},
   "source": [
    "PRIMERO EL MENSAJE DEL SERVER"
   ]
  },
  {
   "cell_type": "code",
   "execution_count": 10,
   "id": "ce5a1067-b6ca-412d-b2a2-e6548d1d08dc",
   "metadata": {},
   "outputs": [],
   "source": [
    "whatsapp_1.darle_click_al_contacto(\"BBCITO 7w7\")"
   ]
  },
  {
   "cell_type": "code",
   "execution_count": 6,
   "id": "a9f977f3-031a-4323-88cf-dadebe6b0d49",
   "metadata": {},
   "outputs": [],
   "source": [
    "x2 = get_memory_status()"
   ]
  },
  {
   "cell_type": "code",
   "execution_count": 5,
   "id": "2fb131f3-699f-48b9-b7b1-26bd33d38eeb",
   "metadata": {},
   "outputs": [],
   "source": [
    "x1 = get_disk_status()"
   ]
  },
  {
   "cell_type": "code",
   "execution_count": 7,
   "id": "88675143-550c-4fb8-9c9f-d8fe2bb88184",
   "metadata": {},
   "outputs": [],
   "source": [
    "mensaje_final = f\" disco {x1}  ram  {x2}\" # saltos de linea los tomara al final como varios mensajes"
   ]
  },
  {
   "cell_type": "markdown",
   "id": "97b72852-aad6-4d8c-a9ea-d1948f7eab3c",
   "metadata": {},
   "source": [
    "AHORA EL WHATSAPP"
   ]
  },
  {
   "cell_type": "markdown",
   "id": "b2952e5c-9bd4-46ae-983d-c615e23c4c46",
   "metadata": {},
   "source": [
    "BUSCAS LA CONCIDENCIA DEL NOMBRE DEL USUARIO"
   ]
  },
  {
   "cell_type": "markdown",
   "id": "9d22f10c-7595-47e7-a7ac-5133685e5fd3",
   "metadata": {},
   "source": [
    "COMO YO TENGO 2 CONTACTOS CON LA CONCIDENCIA \"yo\" , aqui tiene que indicarce el nombre completo."
   ]
  },
  {
   "cell_type": "code",
   "execution_count": 11,
   "id": "0f55c8e9-90d9-4f85-94b2-2b0a0184e721",
   "metadata": {},
   "outputs": [],
   "source": [
    "#whatsapp_1.darle_click_al_contacto(\"BBCITO 7w7\" , \" test \")"
   ]
  },
  {
   "cell_type": "markdown",
   "id": "eafe1868-3d73-48c2-b2ae-1124710a2f65",
   "metadata": {},
   "source": [
    "MENSAJE ENVIADO"
   ]
  },
  {
   "cell_type": "code",
   "execution_count": 20,
   "id": "aa20a4b2-1880-4291-ac73-451eb61cc9f4",
   "metadata": {},
   "outputs": [],
   "source": []
  },
  {
   "cell_type": "code",
   "execution_count": null,
   "id": "199d02b3-6e6c-4e50-a400-79443196bd4f",
   "metadata": {},
   "outputs": [],
   "source": []
  }
 ],
 "metadata": {
  "kernelspec": {
   "display_name": "Python 3 (ipykernel)",
   "language": "python",
   "name": "python3"
  },
  "language_info": {
   "codemirror_mode": {
    "name": "ipython",
    "version": 3
   },
   "file_extension": ".py",
   "mimetype": "text/x-python",
   "name": "python",
   "nbconvert_exporter": "python",
   "pygments_lexer": "ipython3",
   "version": "3.11.9"
  }
 },
 "nbformat": 4,
 "nbformat_minor": 5
}
